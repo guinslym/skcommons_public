{
 "cells": [
  {
   "cell_type": "markdown",
   "metadata": {},
   "source": [
    "###This is the documentation shows how to screen scrape the Hindawa APC' table"
   ]
  },
  {
   "cell_type": "markdown",
   "metadata": {},
   "source": [
    "##Requirements"
   ]
  },
  {
   "cell_type": "markdown",
   "metadata": {},
   "source": [
    "<h4>First you will need to install Python. The easiest way to do so is to install <a href=\"http://docs.continuum.io/anaconda/install.html\">Anaconda</a></h4>"
   ]
  },
  {
   "cell_type": "code",
   "execution_count": 1,
   "metadata": {
    "collapsed": false
   },
   "outputs": [
    {
     "data": {
      "text/html": [
       "\n",
       "        <iframe\n",
       "            width=\"400\"\n",
       "            height=\"300\"\n",
       "            src=\"https://www.youtube.com/embed/6Dv1wNvTPbg\"\n",
       "            frameborder=\"0\"\n",
       "            allowfullscreen\n",
       "        ></iframe>\n",
       "        "
      ],
      "text/plain": [
       "<IPython.lib.display.YouTubeVideo at 0xb543d3ec>"
      ]
     },
     "execution_count": 1,
     "metadata": {},
     "output_type": "execute_result"
    }
   ],
   "source": [
    "from IPython.display import YouTubeVideo, HTML, Math, Image\n",
    "# how to install anaconda on mac\n",
    "YouTubeVideo('6Dv1wNvTPbg')"
   ]
  },
  {
   "cell_type": "markdown",
   "metadata": {},
   "source": [
    "Than you can copy every cells here or you can import this document in your anaconda folder (this part is not shown in the video I'll try to find an other video)"
   ]
  },
  {
   "cell_type": "markdown",
   "metadata": {},
   "source": [
    "<hr/>"
   ]
  },
  {
   "cell_type": "markdown",
   "metadata": {},
   "source": [
    "##Import all the necessary module"
   ]
  },
  {
   "cell_type": "code",
   "execution_count": 82,
   "metadata": {
    "collapsed": true
   },
   "outputs": [],
   "source": [
    "#This module will help you retrieve the content within the Hindawi table\n",
    "from bs4 import BeautifulSoup\n",
    "import urllib\n",
    "import pandas as pd"
   ]
  },
  {
   "cell_type": "markdown",
   "metadata": {},
   "source": [
    "###Retrieving the hindawi html source page"
   ]
  },
  {
   "cell_type": "code",
   "execution_count": 68,
   "metadata": {
    "collapsed": false
   },
   "outputs": [],
   "source": [
    "hindawi_apc_url = 'http://www.hindawi.com/apc/'\n",
    "\n",
    "hindawi_html_page = urllib.urlopen(hindawi_apc_url) \n",
    "\n",
    "soup = BeautifulSoup(hindawi_html_page, 'xml')"
   ]
  },
  {
   "cell_type": "code",
   "execution_count": 73,
   "metadata": {
    "collapsed": false
   },
   "outputs": [
    {
     "data": {
      "text/html": [
       "<iframe src=http://www.hindawi.com/apc/ width=900 height=550></iframe>"
      ],
      "text/plain": [
       "<IPython.core.display.HTML object>"
      ]
     },
     "execution_count": 73,
     "metadata": {},
     "output_type": "execute_result"
    }
   ],
   "source": [
    "HTML('<iframe src=http://www.hindawi.com/apc/ width=900 height=550></iframe>')"
   ]
  },
  {
   "cell_type": "markdown",
   "metadata": {},
   "source": [
    "<p>This Hindawi page contains one HMTL table that we need to parse. Please look at the <a href='http://www.w3schools.com/html/html_tables.asp' >w3school documentation </a> about 'table' if your not familliar with HTML </p>"
   ]
  },
  {
   "cell_type": "code",
   "execution_count": 83,
   "metadata": {
    "collapsed": true
   },
   "outputs": [],
   "source": [
    "#Find all the tr\n",
    "content = soup.find_all('tr')"
   ]
  },
  {
   "cell_type": "raw",
   "metadata": {},
   "source": [
    "<tr class=\"subscription_table_head\">\n",
    "\t <th>Journal Title</th>\n",
    "\t <th>ISSN</th>\n",
    "\t <th class=\"last_th\">APC</th>\n",
    " </tr>, \n",
    " <tr class=\"subscription_table_plus\">\n",
    "\t <td>\n",
    "\t   <a href=\"/journals/aaa/\">Abstract and Applied Analysis</a>\n",
    "\t </td>\n",
    "\t <td>1687-0409</td>\n",
    "\t <td class=\"to_right\">$800</td>\n",
    " </tr>\n",
    " ..."
   ]
  },
  {
   "cell_type": "markdown",
   "metadata": {},
   "source": [
    "Because the first **tr** will contains the  table header (***Journal title, ISSN, APC***) we will start retrieving content after the first **tr**."
   ]
  },
  {
   "cell_type": "code",
   "execution_count": 91,
   "metadata": {
    "collapsed": false
   },
   "outputs": [],
   "source": [
    "table =[]\n",
    "\n",
    "#start with the second 'tr'\n",
    "for value in content[1:]:\n",
    "    #This will find all the td within this 'tr'\n",
    "    value = value.find_all('td')\n",
    "    \n",
    "    #index of VALUE: 0                ,     1,         2\n",
    "    #value ===> 'Abstract and Applied', '1687-0429', '$800'\n",
    "    \n",
    "    apc = value[2].text.strip()\n",
    "    #Let's remove the '$' sign if any\n",
    "    if \"$\" in apc:\n",
    "        apc = (apc.split('$'))[1]\n",
    "        apc = int(apc)\n",
    "    #if value == 'Free' than let's write 0 instead of Free\n",
    "    else:\n",
    "        apc = 0\n",
    "    table.append([value[0].text.strip(),value[1].text.strip(),apc] )\n"
   ]
  },
  {
   "cell_type": "code",
   "execution_count": 65,
   "metadata": {
    "collapsed": false
   },
   "outputs": [],
   "source": [
    "hindawi_apc_table = pd.DataFrame(a, columns=['Journal Title','ISSN','APC'])"
   ]
  },
  {
   "cell_type": "code",
   "execution_count": 92,
   "metadata": {
    "collapsed": false
   },
   "outputs": [
    {
     "data": {
      "text/html": [
       "<div style=\"max-height:1000px;max-width:1500px;overflow:auto;\">\n",
       "<table border=\"1\" class=\"dataframe\">\n",
       "  <thead>\n",
       "    <tr style=\"text-align: right;\">\n",
       "      <th></th>\n",
       "      <th>Journal Title</th>\n",
       "      <th>ISSN</th>\n",
       "      <th>APC</th>\n",
       "    </tr>\n",
       "  </thead>\n",
       "  <tbody>\n",
       "    <tr>\n",
       "      <th>0</th>\n",
       "      <td>Abstract and Applied Analysis</td>\n",
       "      <td>1687-0409</td>\n",
       "      <td>800</td>\n",
       "    </tr>\n",
       "    <tr>\n",
       "      <th>1</th>\n",
       "      <td>Active and Passive Electronic Components</td>\n",
       "      <td>1563-5031</td>\n",
       "      <td>600</td>\n",
       "    </tr>\n",
       "    <tr>\n",
       "      <th>2</th>\n",
       "      <td>Advances in Acoustics and Vibration</td>\n",
       "      <td>1687-627X</td>\n",
       "      <td>600</td>\n",
       "    </tr>\n",
       "    <tr>\n",
       "      <th>3</th>\n",
       "      <td>Advances in Aerospace Engineering</td>\n",
       "      <td>2314-7520</td>\n",
       "      <td>600</td>\n",
       "    </tr>\n",
       "    <tr>\n",
       "      <th>4</th>\n",
       "      <td>Advances in Agriculture</td>\n",
       "      <td>2314-7539</td>\n",
       "      <td>600</td>\n",
       "    </tr>\n",
       "    <tr>\n",
       "      <th>5</th>\n",
       "      <td>Advances in Anatomy</td>\n",
       "      <td>2314-7547</td>\n",
       "      <td>600</td>\n",
       "    </tr>\n",
       "    <tr>\n",
       "      <th>6</th>\n",
       "      <td>Advances in Andrology</td>\n",
       "      <td>2314-8446</td>\n",
       "      <td>600</td>\n",
       "    </tr>\n",
       "    <tr>\n",
       "      <th>7</th>\n",
       "      <td>Advances in Anesthesiology</td>\n",
       "      <td>2314-7555</td>\n",
       "      <td>600</td>\n",
       "    </tr>\n",
       "    <tr>\n",
       "      <th>8</th>\n",
       "      <td>Advances in Artificial Intelligence</td>\n",
       "      <td>1687-7489</td>\n",
       "      <td>0</td>\n",
       "    </tr>\n",
       "    <tr>\n",
       "      <th>9</th>\n",
       "      <td>Advances in Artificial Neural Systems</td>\n",
       "      <td>1687-7608</td>\n",
       "      <td>600</td>\n",
       "    </tr>\n",
       "  </tbody>\n",
       "</table>\n",
       "</div>"
      ],
      "text/plain": [
       "                              Journal Title       ISSN  APC\n",
       "0             Abstract and Applied Analysis  1687-0409  800\n",
       "1  Active and Passive Electronic Components  1563-5031  600\n",
       "2       Advances in Acoustics and Vibration  1687-627X  600\n",
       "3         Advances in Aerospace Engineering  2314-7520  600\n",
       "4                   Advances in Agriculture  2314-7539  600\n",
       "5                       Advances in Anatomy  2314-7547  600\n",
       "6                     Advances in Andrology  2314-8446  600\n",
       "7                Advances in Anesthesiology  2314-7555  600\n",
       "8       Advances in Artificial Intelligence  1687-7489    0\n",
       "9     Advances in Artificial Neural Systems  1687-7608  600"
      ]
     },
     "execution_count": 92,
     "metadata": {},
     "output_type": "execute_result"
    }
   ],
   "source": [
    "#Let's display the first 10 values\n",
    "hindawi_apc_table.head(10)"
   ]
  },
  {
   "cell_type": "markdown",
   "metadata": {},
   "source": [
    "###Export the table to an Excel file"
   ]
  },
  {
   "cell_type": "code",
   "execution_count": 63,
   "metadata": {
    "collapsed": true
   },
   "outputs": [],
   "source": [
    "# Export to Excel\n",
    "hindawi_apc_table.to_excel('Hindawi_apc_table.xlsx', sheet_name = 'Hindawi_APC_Table', index = False)"
   ]
  },
  {
   "cell_type": "markdown",
   "metadata": {},
   "source": [
    "<i class=\"fa fa-file-excel-o fa-2x\" style=\"background-color:green;color:white\"></i>&nbsp;<a href=\"Hindawi_apc_table.xlsx\">Download the excel document (Hindawi_apc_table.xslx)</a>"
   ]
  },
  {
   "cell_type": "markdown",
   "metadata": {},
   "source": [
    "<h3>Références</h3>\n",
    "\n",
    "<ul>\n",
    "<li><a href=\"http://www.crummy.com/software/BeautifulSoup/bs4/doc/\"> BeautifulSoup documentation</a></li>\n",
    "<li><a href=\"http://pandas.pydata.org/pandas-docs/dev/generated/pandas.DataFrame.to_excel.html\"> Pandas; DataFrame to Excel documentation</a></li>\n",
    "<li><a href=\"http://nbviewer.ipython.org/urls/bitbucket.org/hrojas/learn-pandas/raw/master/lessons/10%20-%20Lesson.ipynb\">Other Helpful NBViewer </a></li>\n",
    "</ul>"
   ]
  }
 ],
 "metadata": {
  "kernelspec": {
   "display_name": "Python 2",
   "language": "python",
   "name": "python2"
  },
  "language_info": {
   "codemirror_mode": {
    "name": "ipython",
    "version": 2
   },
   "file_extension": ".py",
   "mimetype": "text/x-python",
   "name": "python",
   "nbconvert_exporter": "python",
   "pygments_lexer": "ipython2",
   "version": "2.7.9"
  }
 },
 "nbformat": 4,
 "nbformat_minor": 0
}
